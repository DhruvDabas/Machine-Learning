{
  "nbformat": 4,
  "nbformat_minor": 0,
  "metadata": {
    "colab": {
      "provenance": []
    },
    "kernelspec": {
      "name": "python3",
      "display_name": "Python 3"
    },
    "language_info": {
      "name": "python"
    }
  },
  "cells": [
    {
      "cell_type": "code",
      "source": [
        "import tensorflow as tf"
      ],
      "metadata": {
        "id": "nEvqovYRIwq8"
      },
      "execution_count": 15,
      "outputs": []
    },
    {
      "cell_type": "code",
      "source": [
        "tf.constant(b\"hello world\") # byte string useful for NLP"
      ],
      "metadata": {
        "colab": {
          "base_uri": "https://localhost:8080/"
        },
        "id": "cuuvvLCoe96Q",
        "outputId": "ea85e055-6cdc-4104-930f-ad136d1adb82"
      },
      "execution_count": 16,
      "outputs": [
        {
          "output_type": "execute_result",
          "data": {
            "text/plain": [
              "<tf.Tensor: shape=(), dtype=string, numpy=b'hello world'>"
            ]
          },
          "metadata": {},
          "execution_count": 16
        }
      ]
    },
    {
      "cell_type": "code",
      "source": [
        "a = tf.constant(10)\n",
        "b = tf.constant(20)\n",
        "\n",
        "c = a+b\n",
        "\n",
        "print(c)"
      ],
      "metadata": {
        "colab": {
          "base_uri": "https://localhost:8080/"
        },
        "id": "B7UYH0HIfCd8",
        "outputId": "9f2ae262-d532-4320-f38b-79dc73b9d3d1"
      },
      "execution_count": 19,
      "outputs": [
        {
          "output_type": "stream",
          "name": "stdout",
          "text": [
            "tf.Tensor(30, shape=(), dtype=int32)\n"
          ]
        }
      ]
    },
    {
      "cell_type": "code",
      "source": [
        "u = tf.constant([ord(i) for i in \"hello world\"])"
      ],
      "metadata": {
        "id": "YJyRwTwPfKkJ"
      },
      "execution_count": 20,
      "outputs": []
    },
    {
      "cell_type": "code",
      "source": [
        "u"
      ],
      "metadata": {
        "colab": {
          "base_uri": "https://localhost:8080/"
        },
        "id": "gk2Ayx9Sfjyb",
        "outputId": "ad112673-fb56-4c74-deeb-5c9500357fd6"
      },
      "execution_count": 21,
      "outputs": [
        {
          "output_type": "execute_result",
          "data": {
            "text/plain": [
              "<tf.Tensor: shape=(11,), dtype=int32, numpy=array([104, 101, 108, 108, 111,  32, 119, 111, 114, 108, 100], dtype=int32)>"
            ]
          },
          "metadata": {},
          "execution_count": 21
        }
      ]
    },
    {
      "cell_type": "code",
      "source": [
        "d = tf.strings.unicode_encode(u, \"UTF-8\")"
      ],
      "metadata": {
        "id": "ALZ8Aqw5fknh"
      },
      "execution_count": 24,
      "outputs": []
    },
    {
      "cell_type": "code",
      "source": [
        "d"
      ],
      "metadata": {
        "colab": {
          "base_uri": "https://localhost:8080/"
        },
        "id": "ASwTLbhOfypZ",
        "outputId": "9d9f6a10-1e1d-411b-ae00-b18fe87618e6"
      },
      "execution_count": 25,
      "outputs": [
        {
          "output_type": "execute_result",
          "data": {
            "text/plain": [
              "<tf.Tensor: shape=(), dtype=string, numpy=b'hello world'>"
            ]
          },
          "metadata": {},
          "execution_count": 25
        }
      ]
    },
    {
      "cell_type": "code",
      "source": [
        "tf.strings.length(d, unit=\"UTF8_CHAR\")"
      ],
      "metadata": {
        "colab": {
          "base_uri": "https://localhost:8080/"
        },
        "id": "b80pz5PQf5NB",
        "outputId": "ee130b6c-ee42-41f1-91cc-895a998d2d39"
      },
      "execution_count": 26,
      "outputs": [
        {
          "output_type": "execute_result",
          "data": {
            "text/plain": [
              "<tf.Tensor: shape=(), dtype=int32, numpy=11>"
            ]
          },
          "metadata": {},
          "execution_count": 26
        }
      ]
    },
    {
      "cell_type": "markdown",
      "source": [
        "# Ragged Tensor"
      ],
      "metadata": {
        "id": "GD4EQijvgGlA"
      }
    },
    {
      "cell_type": "code",
      "source": [
        "# Special type of tensor that represents a list of array of differnt sizes, It is a tensor with one or more ragged dimensions.\n",
        "\n",
        "# First dimension is regular (uniform)\n",
        "# Second dimension is ragged"
      ],
      "metadata": {
        "id": "JPXvitl6gCsZ"
      },
      "execution_count": 27,
      "outputs": []
    },
    {
      "cell_type": "code",
      "source": [
        "ragged_tensor = tf.ragged.constant([[1, 2, 3], [4, 5], [], [6]])"
      ],
      "metadata": {
        "id": "FtcLVLlLgmS7"
      },
      "execution_count": 29,
      "outputs": []
    },
    {
      "cell_type": "code",
      "source": [
        "print(\"Ragged Tensor:\")\n",
        "print(ragged_tensor)"
      ],
      "metadata": {
        "colab": {
          "base_uri": "https://localhost:8080/"
        },
        "id": "6KvWDEUsgyA9",
        "outputId": "782587bb-1c58-4e57-dd27-551f54f772d9"
      },
      "execution_count": 30,
      "outputs": [
        {
          "output_type": "stream",
          "name": "stdout",
          "text": [
            "Ragged Tensor:\n",
            "<tf.RaggedTensor [[1, 2, 3], [4, 5], [], [6]]>\n"
          ]
        }
      ]
    },
    {
      "cell_type": "code",
      "source": [
        "ragged_tensor.shape"
      ],
      "metadata": {
        "colab": {
          "base_uri": "https://localhost:8080/"
        },
        "id": "ZSniwSWGg23U",
        "outputId": "79217f54-999a-40f1-e92f-65e97d0a1842"
      },
      "execution_count": 31,
      "outputs": [
        {
          "output_type": "execute_result",
          "data": {
            "text/plain": [
              "TensorShape([4, None])"
            ]
          },
          "metadata": {},
          "execution_count": 31
        }
      ]
    },
    {
      "cell_type": "code",
      "source": [
        "ragged_tensor[1]"
      ],
      "metadata": {
        "colab": {
          "base_uri": "https://localhost:8080/"
        },
        "id": "CETLMWuNg5Vr",
        "outputId": "d1708046-4b92-4f82-956d-bf9160e742c8"
      },
      "execution_count": 32,
      "outputs": [
        {
          "output_type": "execute_result",
          "data": {
            "text/plain": [
              "<tf.Tensor: shape=(2,), dtype=int32, numpy=array([4, 5], dtype=int32)>"
            ]
          },
          "metadata": {},
          "execution_count": 32
        }
      ]
    },
    {
      "cell_type": "code",
      "source": [
        "ragged_tensor[0]"
      ],
      "metadata": {
        "colab": {
          "base_uri": "https://localhost:8080/"
        },
        "id": "7QNh-Uoog8Ha",
        "outputId": "c54d02fa-c5b8-49fe-d146-9850ad4eec96"
      },
      "execution_count": 33,
      "outputs": [
        {
          "output_type": "execute_result",
          "data": {
            "text/plain": [
              "<tf.Tensor: shape=(3,), dtype=int32, numpy=array([1, 2, 3], dtype=int32)>"
            ]
          },
          "metadata": {},
          "execution_count": 33
        }
      ]
    },
    {
      "cell_type": "code",
      "source": [
        "r2 = tf.ragged.constant([[8,9], [], [10,20]])"
      ],
      "metadata": {
        "id": "kbOq35pBg8-F"
      },
      "execution_count": 34,
      "outputs": []
    },
    {
      "cell_type": "code",
      "source": [
        "tf.concat([ragged_tensor, r2], axis=0)"
      ],
      "metadata": {
        "colab": {
          "base_uri": "https://localhost:8080/"
        },
        "id": "AXouQJtkhMyI",
        "outputId": "aaa7e16a-6e2c-4232-bc85-88b9161f964e"
      },
      "execution_count": 35,
      "outputs": [
        {
          "output_type": "execute_result",
          "data": {
            "text/plain": [
              "<tf.RaggedTensor [[1, 2, 3], [4, 5], [], [6], [8, 9], [], [10, 20]]>"
            ]
          },
          "metadata": {},
          "execution_count": 35
        }
      ]
    },
    {
      "cell_type": "markdown",
      "source": [
        "# Sparse tensors"
      ],
      "metadata": {
        "id": "4r6abDh4hbvg"
      }
    },
    {
      "cell_type": "code",
      "source": [
        "s = tf.SparseTensor(indices=[[0, 0], [1, 0]],\n",
        "                    values=[1, 2],\n",
        "                    dense_shape=[3, 4])"
      ],
      "metadata": {
        "id": "o30Cuw2phOth"
      },
      "execution_count": 40,
      "outputs": []
    },
    {
      "cell_type": "code",
      "source": [
        "tf.sparse.to_dense(s)"
      ],
      "metadata": {
        "colab": {
          "base_uri": "https://localhost:8080/"
        },
        "id": "5nzvgSN9hn3g",
        "outputId": "be059e28-660c-4864-fa9b-f7b9d75af2e1"
      },
      "execution_count": 41,
      "outputs": [
        {
          "output_type": "execute_result",
          "data": {
            "text/plain": [
              "<tf.Tensor: shape=(3, 4), dtype=int32, numpy=\n",
              "array([[1, 0, 0, 0],\n",
              "       [2, 0, 0, 0],\n",
              "       [0, 0, 0, 0]], dtype=int32)>"
            ]
          },
          "metadata": {},
          "execution_count": 41
        }
      ]
    },
    {
      "cell_type": "code",
      "source": [
        "s*42"
      ],
      "metadata": {
        "colab": {
          "base_uri": "https://localhost:8080/"
        },
        "id": "rdeztXQzhpGL",
        "outputId": "102aae15-9fde-44dc-954a-33469c4b15c2"
      },
      "execution_count": 42,
      "outputs": [
        {
          "output_type": "execute_result",
          "data": {
            "text/plain": [
              "SparseTensor(indices=tf.Tensor(\n",
              "[[0 0]\n",
              " [1 0]], shape=(2, 2), dtype=int64), values=tf.Tensor([42 84], shape=(2,), dtype=int32), dense_shape=tf.Tensor([3 4], shape=(2,), dtype=int64))"
            ]
          },
          "metadata": {},
          "execution_count": 42
        }
      ]
    },
    {
      "cell_type": "markdown",
      "source": [
        "# Sets"
      ],
      "metadata": {
        "id": "qshXh6wHiI9P"
      }
    },
    {
      "cell_type": "code",
      "source": [
        "a = tf.constant([[1,2,3]])\n",
        "b = tf.constant([[5,6,7,8]])\n",
        "\n",
        "u = tf.sets.union(a, b)"
      ],
      "metadata": {
        "id": "CjPLjCEHh5Gr"
      },
      "execution_count": 46,
      "outputs": []
    },
    {
      "cell_type": "code",
      "source": [
        "u"
      ],
      "metadata": {
        "colab": {
          "base_uri": "https://localhost:8080/"
        },
        "id": "GKja2Kn8iYYn",
        "outputId": "937c94f0-76a8-4a7b-a2e8-9d9934c573e4"
      },
      "execution_count": 47,
      "outputs": [
        {
          "output_type": "execute_result",
          "data": {
            "text/plain": [
              "SparseTensor(indices=tf.Tensor(\n",
              "[[0 0]\n",
              " [0 1]\n",
              " [0 2]\n",
              " [0 3]\n",
              " [0 4]\n",
              " [0 5]\n",
              " [0 6]], shape=(7, 2), dtype=int64), values=tf.Tensor([1 2 3 5 6 7 8], shape=(7,), dtype=int32), dense_shape=tf.Tensor([1 7], shape=(2,), dtype=int64))"
            ]
          },
          "metadata": {},
          "execution_count": 47
        }
      ]
    },
    {
      "cell_type": "code",
      "source": [
        "tf.sparse.to_dense(u)"
      ],
      "metadata": {
        "colab": {
          "base_uri": "https://localhost:8080/"
        },
        "id": "Q9j_8x22ih_o",
        "outputId": "7b171d41-611f-464f-b864-b7f8e8bf1464"
      },
      "execution_count": 48,
      "outputs": [
        {
          "output_type": "execute_result",
          "data": {
            "text/plain": [
              "<tf.Tensor: shape=(1, 7), dtype=int32, numpy=array([[1, 2, 3, 5, 6, 7, 8]], dtype=int32)>"
            ]
          },
          "metadata": {},
          "execution_count": 48
        }
      ]
    },
    {
      "cell_type": "code",
      "source": [
        "intersection = tf.sparse.to_dense(tf.sets.intersection(a, b))"
      ],
      "metadata": {
        "id": "BiHfFduiijhy"
      },
      "execution_count": 49,
      "outputs": []
    },
    {
      "cell_type": "code",
      "source": [
        "print(intersection)"
      ],
      "metadata": {
        "colab": {
          "base_uri": "https://localhost:8080/"
        },
        "id": "4qcQH2Gmi7rR",
        "outputId": "beb7ead5-e111-471a-fba8-1ded6a875bf5"
      },
      "execution_count": 50,
      "outputs": [
        {
          "output_type": "stream",
          "name": "stdout",
          "text": [
            "tf.Tensor([], shape=(1, 0), dtype=int32)\n"
          ]
        }
      ]
    },
    {
      "cell_type": "markdown",
      "source": [
        "# Queue ( Dont use them its 2025 )"
      ],
      "metadata": {
        "id": "nPrMP-cRja0z"
      }
    },
    {
      "cell_type": "code",
      "source": [
        "# RandomShuffleQueue: Allows elements to be dequeued in a random order, adding randomness to the data processing pipeline.\n",
        "\n",
        "# PriorityQueue: Dequeues elements based on their assigned priorities, useful for prioritized task scheduling."
      ],
      "metadata": {
        "id": "p7XFll1Vjmtu"
      },
      "execution_count": 52,
      "outputs": []
    }
  ]
}