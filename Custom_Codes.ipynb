{
  "nbformat": 4,
  "nbformat_minor": 0,
  "metadata": {
    "colab": {
      "provenance": []
    },
    "kernelspec": {
      "name": "python3",
      "display_name": "Python 3"
    },
    "language_info": {
      "name": "python"
    }
  },
  "cells": [
    {
      "cell_type": "code",
      "source": [
        "import numpy as np\n",
        "import tensorflow as tf"
      ],
      "metadata": {
        "id": "9TZy8dRqhZ_I"
      },
      "execution_count": 10,
      "outputs": []
    },
    {
      "cell_type": "code",
      "source": [
        "dataset = tf.keras.datasets.fashion_mnist.load_data()\n",
        "(X_train_full, y_train_full), (X_test, y_test) = dataset\n",
        "\n",
        "(X_train_full, y_train_full), (X_test, y_test) = tf.keras.datasets.fashion_mnist.load_data()\n",
        "\n",
        "X_valid, X_train = X_train_full[:5000] / 255.0, X_train_full[5000:] / 255.0\n",
        "y_valid, y_train = y_train_full[:5000], y_train_full[5000:]"
      ],
      "metadata": {
        "id": "HK4BirPqAr3G"
      },
      "execution_count": 15,
      "outputs": []
    },
    {
      "cell_type": "code",
      "source": [
        "class residual_Block(tf.keras.layers.Layer):\n",
        "    def __init__(self, n_layers, n_neurons, **kwargs):\n",
        "        super().__init__(**kwargs)\n",
        "        self.hidden = [\n",
        "            tf.keras.layers.Dense(n_neurons, activation=\"relu\", kernel_initializer=\"he_normal\")\n",
        "            for _ in range(n_layers)\n",
        "        ]\n",
        "\n",
        "    def call(self, inputs):\n",
        "        Z = inputs\n",
        "        for layer in self.hidden:\n",
        "            Z = layer(Z)\n",
        "        return inputs + Z"
      ],
      "metadata": {
        "id": "MtudjiBr-DRV"
      },
      "execution_count": 24,
      "outputs": []
    },
    {
      "cell_type": "code",
      "source": [
        "class ResidualRegressor(tf.keras.Model):\n",
        "    def __init__(self, output_dim, **kwargs):\n",
        "        super().__init__(**kwargs)\n",
        "        self.hidden = tf.keras.layers.Dense(30, activation=\"relu\", kernel_initializer=\"he_normal\")\n",
        "        self.block1 = residual_Block(2, 30)\n",
        "        self.block2 = residual_Block(2, 30)\n",
        "        self.out = tf.keras.layers.Dense(output_dim)\n",
        "\n",
        "    def call(self, inputs):\n",
        "        Z = self.hidden(inputs)\n",
        "\n",
        "        for _ in range(1+3):  # Block1 is called 4 times (1 + 3)\n",
        "            Z = self.block1(Z)\n",
        "        Z = self.block2(Z)\n",
        "\n",
        "        return self.out(Z)"
      ],
      "metadata": {
        "id": "i2rcATGL-5QS"
      },
      "execution_count": 25,
      "outputs": []
    },
    {
      "cell_type": "code",
      "source": [
        "model = tf.keras.Sequential([\n",
        "    tf.keras.layers.Dense(30, activation=\"relu\", kernel_initializer=\"he_normal\"),\n",
        "    residual_Block(2, 30),\n",
        "    residual_Block(2, 30),\n",
        "    tf.keras.layers.Dense(1)\n",
        "])\n",
        "\n",
        "model.compile(loss=\"mse\", optimizer=\"sgd\")\n",
        "\n",
        "history = model.fit(X_train, y_train, epochs=5, validation_data=(X_valid, y_valid))"
      ],
      "metadata": {
        "colab": {
          "base_uri": "https://localhost:8080/"
        },
        "id": "t46EuxoJATxb",
        "outputId": "2f4b1c46-8f49-4399-f8c4-0fb83e68e466"
      },
      "execution_count": 26,
      "outputs": [
        {
          "output_type": "stream",
          "name": "stdout",
          "text": [
            "Epoch 1/5\n",
            "\u001b[1m1719/1719\u001b[0m \u001b[32m━━━━━━━━━━━━━━━━━━━━\u001b[0m\u001b[37m\u001b[0m \u001b[1m11s\u001b[0m 6ms/step - loss: 8.8506 - val_loss: 8.2351\n",
            "Epoch 2/5\n",
            "\u001b[1m1719/1719\u001b[0m \u001b[32m━━━━━━━━━━━━━━━━━━━━\u001b[0m\u001b[37m\u001b[0m \u001b[1m19s\u001b[0m 5ms/step - loss: 8.3103 - val_loss: 8.2313\n",
            "Epoch 3/5\n",
            "\u001b[1m1719/1719\u001b[0m \u001b[32m━━━━━━━━━━━━━━━━━━━━\u001b[0m\u001b[37m\u001b[0m \u001b[1m10s\u001b[0m 6ms/step - loss: 8.3026 - val_loss: 8.2708\n",
            "Epoch 4/5\n",
            "\u001b[1m1719/1719\u001b[0m \u001b[32m━━━━━━━━━━━━━━━━━━━━\u001b[0m\u001b[37m\u001b[0m \u001b[1m10s\u001b[0m 6ms/step - loss: 8.2827 - val_loss: 8.2381\n",
            "Epoch 5/5\n",
            "\u001b[1m1719/1719\u001b[0m \u001b[32m━━━━━━━━━━━━━━━━━━━━\u001b[0m\u001b[37m\u001b[0m \u001b[1m9s\u001b[0m 5ms/step - loss: 8.2780 - val_loss: 8.2344\n"
          ]
        }
      ]
    },
    {
      "cell_type": "markdown",
      "source": [
        "# Power Scheduling"
      ],
      "metadata": {
        "id": "46vw8PELCl0r"
      }
    },
    {
      "cell_type": "code",
      "source": [
        "optimizer = tf.keras.optimizers.SGD(learning_rate=0.01, decay=1e-4)"
      ],
      "metadata": {
        "colab": {
          "base_uri": "https://localhost:8080/"
        },
        "id": "rz-vRlclBohR",
        "outputId": "24836dc7-9756-4b11-f849-bea72f0e734e"
      },
      "execution_count": 30,
      "outputs": [
        {
          "output_type": "stream",
          "name": "stderr",
          "text": [
            "/usr/local/lib/python3.11/dist-packages/keras/src/optimizers/base_optimizer.py:33: UserWarning: Argument `decay` is no longer supported and will be ignored.\n",
            "  warnings.warn(\n"
          ]
        }
      ]
    },
    {
      "cell_type": "code",
      "source": [
        "model = tf.keras.Sequential([\n",
        "    tf.keras.layers.Dense(64, activation='relu', input_shape=(784,)),\n",
        "    tf.keras.layers.Dense(10, activation='softmax')\n",
        "])\n",
        "\n",
        "model.compile(optimizer=optimizer, loss='sparse_categorical_crossentropy', metrics=['accuracy'])"
      ],
      "metadata": {
        "id": "WddZrvECCnTQ"
      },
      "execution_count": 31,
      "outputs": []
    },
    {
      "cell_type": "code",
      "source": [
        "# Power Scheduling\n",
        "initial_lr = 0.1\n",
        "lr_schedule = tf.keras.optimizers.schedules.PolynomialDecay(\n",
        "    initial_learning_rate=initial_lr,\n",
        "    decay_steps=1000,\n",
        "    end_learning_rate=0.01,\n",
        "    power=1.0,  # Power factor, controls decay curve\n",
        "    cycle=False  # True for cyclical decay\n",
        ")\n",
        "\n",
        "optimizer = tf.keras.optimizers.Adam(learning_rate=lr_schedule)"
      ],
      "metadata": {
        "id": "fcbdFLENDO8C"
      },
      "execution_count": 35,
      "outputs": []
    },
    {
      "cell_type": "markdown",
      "source": [
        "# Exponential Learning"
      ],
      "metadata": {
        "id": "K5YJkZ8KD1tb"
      }
    },
    {
      "cell_type": "code",
      "source": [
        "# Exponential Decay Scheduling\n",
        "initial_lr = 0.1\n",
        "lr_schedule = tf.keras.optimizers.schedules.ExponentialDecay(\n",
        "    initial_learning_rate=initial_lr,\n",
        "    decay_steps=1000,\n",
        "    decay_rate=0.96,  # Decay factor\n",
        "    staircase=True  # If True, it decays at discrete intervals\n",
        ")\n",
        "\n",
        "optimizer = tf.keras.optimizers.Adam(learning_rate=lr_schedule)\n",
        "\n",
        "# Example model\n",
        "model = tf.keras.Sequential([\n",
        "    tf.keras.layers.Dense(64, activation='relu', input_shape=(784,)),\n",
        "    tf.keras.layers.Dense(10, activation='softmax')\n",
        "])\n",
        "\n",
        "model.compile(optimizer=optimizer, loss='sparse_categorical_crossentropy', metrics=['accuracy'])"
      ],
      "metadata": {
        "id": "y1bi0PY5D03H"
      },
      "execution_count": 36,
      "outputs": []
    },
    {
      "cell_type": "markdown",
      "source": [
        "# Performance-Based Scheduling"
      ],
      "metadata": {
        "id": "jy-pA1TcEOay"
      }
    },
    {
      "cell_type": "code",
      "source": [
        "lr_scheduler = tf.keras.callbacks.ReduceLROnPlateau(\n",
        "    monitor='val_loss',  # Monitor validation loss\n",
        "    factor=0.5,          # Reduce learning rate by this factor\n",
        "    patience=5,          # Number of epochs with no improvement before reducing LR\n",
        "    verbose=1,           # Print message when LR is reduced\n",
        "    min_lr=0.0001        # Minimum learning rate\n",
        ")"
      ],
      "metadata": {
        "id": "1gYEVGLbEJjq"
      },
      "execution_count": 37,
      "outputs": []
    },
    {
      "cell_type": "markdown",
      "source": [
        "# 1Cycle"
      ],
      "metadata": {
        "id": "OlLLNsJeFMfc"
      }
    },
    {
      "cell_type": "code",
      "source": [
        "def one_cycle_lr_schedule(epoch, lr_max, lr_min, total_epochs):\n",
        "\n",
        "    # Linear increase to max learning rate during the first half, then, it decreases  for the second half\n",
        "    lr = lr_min + 0.5 * (lr_max - lr_min) * (1 + np.cos(np.pi * epoch / total_epochs))\n",
        "    return lr\n",
        "\n",
        "lr_max = 0.01  # Max\n",
        "lr_min = 0.0001  # Min\n",
        "total_epochs = 30  # Total epochs\n",
        "\n",
        "# Learning rate scheduler\n",
        "lr_scheduler = tf.keras.callbacks.LearningRateScheduler(\n",
        "    lambda epoch: one_cycle_lr_schedule(epoch, lr_max, lr_min, total_epochs),\n",
        "    verbose=1\n",
        ")"
      ],
      "metadata": {
        "id": "iRA6ShUVEeEk"
      },
      "execution_count": 39,
      "outputs": []
    },
    {
      "cell_type": "code",
      "source": [],
      "metadata": {
        "id": "Rhp-WUFXFcak"
      },
      "execution_count": null,
      "outputs": []
    }
  ]
}